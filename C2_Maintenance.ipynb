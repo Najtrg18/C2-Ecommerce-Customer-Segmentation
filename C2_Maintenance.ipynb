{
 "cells": [
  {
   "cell_type": "markdown",
   "id": "1150957e",
   "metadata": {},
   "source": [
    "# Content :\n",
    "\n",
    "**Part 0 : Environnement Setup**\n",
    " - <a href=\"#C1\">Importation of libraries</a>\n",
    " - <a href=\"#C2\">Dataset Import</a>\n",
    " \n",
    "**Part 1 : Model Maintenance**"
   ]
  },
  {
   "cell_type": "markdown",
   "id": "5b1104a9",
   "metadata": {},
   "source": [
    "# Part 0 : Environnement Setup"
   ]
  },
  {
   "cell_type": "markdown",
   "id": "220f46c9",
   "metadata": {},
   "source": [
    "# <a name=\"C1\">Importation of libraries</a>"
   ]
  },
  {
   "cell_type": "code",
   "execution_count": 1,
   "id": "8de6fb77",
   "metadata": {},
   "outputs": [],
   "source": [
    "# Importing libraries\n",
    "import pandas as pd\n",
    "from pandas import DataFrame\n",
    "import numpy as np\n",
    "from datetime import datetime, timedelta\n",
    "\n",
    "import matplotlib as mp\n",
    "import matplotlib.pyplot as plt\n",
    "import seaborn as sns\n",
    "sns.set()\n",
    "\n",
    "from sklearn import cluster, metrics\n",
    "from sklearn.preprocessing import StandardScaler\n",
    "from sklearn.cluster import KMeans\n",
    "from sklearn.cluster import DBSCAN\n",
    "from sklearn.cluster import AgglomerativeClustering\n",
    "from sklearn.cluster import SpectralClustering\n",
    "from sklearn.metrics.cluster import adjusted_rand_score"
   ]
  },
  {
   "cell_type": "code",
   "execution_count": 2,
   "id": "e10eca93",
   "metadata": {
    "scrolled": true
   },
   "outputs": [
    {
     "name": "stdout",
     "output_type": "stream",
     "text": [
      "pandas version : 1.4.2\n",
      "numpy version : 1.21.5\n",
      "matplotlib version : 3.5.1\n",
      "seaborn version : 0.11.2\n"
     ]
    }
   ],
   "source": [
    "# Displaying versions of librairies\n",
    "print(\"pandas version : \" + pd.__version__)\n",
    "print(\"numpy version : \" + np.__version__)\n",
    "print(\"matplotlib version : \" + mp.__version__)\n",
    "print(\"seaborn version : \" + sns.__version__)"
   ]
  },
  {
   "cell_type": "markdown",
   "id": "fb21ab40",
   "metadata": {},
   "source": [
    "# <a name=\"C1\">Dataset Import</a>"
   ]
  },
  {
   "cell_type": "code",
   "execution_count": 3,
   "id": "86a24c58",
   "metadata": {},
   "outputs": [],
   "source": [
    "# Import the 2 files\n",
    "customers = pd.read_csv('customers_quart.csv')\n",
    "customers_cleaned = pd.read_csv('customers_cleaned.csv')"
   ]
  },
  {
   "cell_type": "markdown",
   "id": "3a48f3aa",
   "metadata": {},
   "source": [
    "# Part 2 : Model Maintenance"
   ]
  },
  {
   "cell_type": "code",
   "execution_count": 4,
   "id": "88e3e95b",
   "metadata": {},
   "outputs": [
    {
     "data": {
      "text/html": [
       "<div>\n",
       "<style scoped>\n",
       "    .dataframe tbody tr th:only-of-type {\n",
       "        vertical-align: middle;\n",
       "    }\n",
       "\n",
       "    .dataframe tbody tr th {\n",
       "        vertical-align: top;\n",
       "    }\n",
       "\n",
       "    .dataframe thead th {\n",
       "        text-align: right;\n",
       "    }\n",
       "</style>\n",
       "<table border=\"1\" class=\"dataframe\">\n",
       "  <thead>\n",
       "    <tr style=\"text-align: right;\">\n",
       "      <th></th>\n",
       "      <th>score</th>\n",
       "      <th>freight_per</th>\n",
       "      <th>delivery_per</th>\n",
       "      <th>quantity</th>\n",
       "    </tr>\n",
       "  </thead>\n",
       "  <tbody>\n",
       "    <tr>\n",
       "      <th>82601</th>\n",
       "      <td>1.0</td>\n",
       "      <td>0.337273</td>\n",
       "      <td>0.431250</td>\n",
       "      <td>0.0</td>\n",
       "    </tr>\n",
       "    <tr>\n",
       "      <th>82602</th>\n",
       "      <td>1.0</td>\n",
       "      <td>0.556481</td>\n",
       "      <td>0.692308</td>\n",
       "      <td>0.0</td>\n",
       "    </tr>\n",
       "  </tbody>\n",
       "</table>\n",
       "</div>"
      ],
      "text/plain": [
       "       score  freight_per  delivery_per  quantity\n",
       "82601    1.0     0.337273      0.431250       0.0\n",
       "82602    1.0     0.556481      0.692308       0.0"
      ]
     },
     "execution_count": 4,
     "metadata": {},
     "output_type": "execute_result"
    }
   ],
   "source": [
    "# Visualising the end of Customers file\n",
    "customers.tail(2)"
   ]
  },
  {
   "cell_type": "code",
   "execution_count": 5,
   "id": "0db8e173",
   "metadata": {},
   "outputs": [
    {
     "data": {
      "text/html": [
       "<div>\n",
       "<style scoped>\n",
       "    .dataframe tbody tr th:only-of-type {\n",
       "        vertical-align: middle;\n",
       "    }\n",
       "\n",
       "    .dataframe tbody tr th {\n",
       "        vertical-align: top;\n",
       "    }\n",
       "\n",
       "    .dataframe thead th {\n",
       "        text-align: right;\n",
       "    }\n",
       "</style>\n",
       "<table border=\"1\" class=\"dataframe\">\n",
       "  <thead>\n",
       "    <tr style=\"text-align: right;\">\n",
       "      <th></th>\n",
       "      <th>recency</th>\n",
       "      <th>frequency</th>\n",
       "      <th>monetary</th>\n",
       "      <th>score</th>\n",
       "      <th>delivery</th>\n",
       "      <th>delivery_acc</th>\n",
       "      <th>delivery_per</th>\n",
       "      <th>quantity</th>\n",
       "      <th>order_value</th>\n",
       "      <th>freight_per</th>\n",
       "      <th>freight_value</th>\n",
       "      <th>reaction</th>\n",
       "      <th>pay_inst</th>\n",
       "      <th>pay_type</th>\n",
       "      <th>order_purchase_timestamp_max</th>\n",
       "    </tr>\n",
       "  </thead>\n",
       "  <tbody>\n",
       "    <tr>\n",
       "      <th>82601</th>\n",
       "      <td>119</td>\n",
       "      <td>1</td>\n",
       "      <td>133.69</td>\n",
       "      <td>5.0</td>\n",
       "      <td>12</td>\n",
       "      <td>14</td>\n",
       "      <td>1.166667</td>\n",
       "      <td>1.0</td>\n",
       "      <td>115.00</td>\n",
       "      <td>0.139801</td>\n",
       "      <td>18.69</td>\n",
       "      <td>1</td>\n",
       "      <td>5.0</td>\n",
       "      <td>credit_card</td>\n",
       "      <td>2018-05-02 15:17:41</td>\n",
       "    </tr>\n",
       "    <tr>\n",
       "      <th>82602</th>\n",
       "      <td>484</td>\n",
       "      <td>1</td>\n",
       "      <td>71.56</td>\n",
       "      <td>5.0</td>\n",
       "      <td>8</td>\n",
       "      <td>16</td>\n",
       "      <td>2.000000</td>\n",
       "      <td>1.0</td>\n",
       "      <td>56.99</td>\n",
       "      <td>0.203605</td>\n",
       "      <td>14.57</td>\n",
       "      <td>1</td>\n",
       "      <td>4.0</td>\n",
       "      <td>credit_card</td>\n",
       "      <td>2017-05-02 20:18:45</td>\n",
       "    </tr>\n",
       "  </tbody>\n",
       "</table>\n",
       "</div>"
      ],
      "text/plain": [
       "       recency  frequency  monetary  score  delivery  delivery_acc  \\\n",
       "82601      119          1    133.69    5.0        12            14   \n",
       "82602      484          1     71.56    5.0         8            16   \n",
       "\n",
       "       delivery_per  quantity  order_value  freight_per  freight_value  \\\n",
       "82601      1.166667       1.0       115.00     0.139801          18.69   \n",
       "82602      2.000000       1.0        56.99     0.203605          14.57   \n",
       "\n",
       "       reaction  pay_inst     pay_type order_purchase_timestamp_max  \n",
       "82601         1       5.0  credit_card          2018-05-02 15:17:41  \n",
       "82602         1       4.0  credit_card          2017-05-02 20:18:45  "
      ]
     },
     "execution_count": 5,
     "metadata": {},
     "output_type": "execute_result"
    }
   ],
   "source": [
    "# Visualising the end of customers_cleaned file\n",
    "customers_cleaned.tail(2)"
   ]
  },
  {
   "cell_type": "code",
   "execution_count": 6,
   "id": "74e714ce",
   "metadata": {},
   "outputs": [],
   "source": [
    "# Limiting dataframe to purchase dates\n",
    "customers_cleaned = customers_cleaned[['order_purchase_timestamp_max']]"
   ]
  },
  {
   "cell_type": "code",
   "execution_count": 7,
   "id": "86cd950d",
   "metadata": {},
   "outputs": [],
   "source": [
    "# Defining max and min purchase dates\n",
    "date_ref_ini = customers_cleaned['order_purchase_timestamp_max'].min()\n",
    "date_ref_last = customers_cleaned['order_purchase_timestamp_max'].max()\n",
    "date_ref_ini = pd.to_datetime(date_ref_ini,format='%Y-%m-%d %H:%M:%S')\n",
    "date_ref_last = pd.to_datetime(date_ref_last,format='%Y-%m-%d %H:%M:%S')"
   ]
  },
  {
   "cell_type": "code",
   "execution_count": 8,
   "id": "11384abd",
   "metadata": {},
   "outputs": [
    {
     "data": {
      "text/html": [
       "<div>\n",
       "<style scoped>\n",
       "    .dataframe tbody tr th:only-of-type {\n",
       "        vertical-align: middle;\n",
       "    }\n",
       "\n",
       "    .dataframe tbody tr th {\n",
       "        vertical-align: top;\n",
       "    }\n",
       "\n",
       "    .dataframe thead th {\n",
       "        text-align: right;\n",
       "    }\n",
       "</style>\n",
       "<table border=\"1\" class=\"dataframe\">\n",
       "  <thead>\n",
       "    <tr style=\"text-align: right;\">\n",
       "      <th></th>\n",
       "      <th>score</th>\n",
       "      <th>freight_per</th>\n",
       "      <th>delivery_per</th>\n",
       "      <th>quantity</th>\n",
       "      <th>order_purchase_timestamp_max</th>\n",
       "    </tr>\n",
       "  </thead>\n",
       "  <tbody>\n",
       "    <tr>\n",
       "      <th>0</th>\n",
       "      <td>1.000000</td>\n",
       "      <td>0.181293</td>\n",
       "      <td>0.245409</td>\n",
       "      <td>0.0</td>\n",
       "      <td>2018-05-10 10:56:27</td>\n",
       "    </tr>\n",
       "    <tr>\n",
       "      <th>1</th>\n",
       "      <td>0.250000</td>\n",
       "      <td>0.761299</td>\n",
       "      <td>0.465625</td>\n",
       "      <td>0.0</td>\n",
       "      <td>2018-05-07 11:11:27</td>\n",
       "    </tr>\n",
       "    <tr>\n",
       "      <th>2</th>\n",
       "      <td>0.166667</td>\n",
       "      <td>0.545819</td>\n",
       "      <td>0.020121</td>\n",
       "      <td>0.0</td>\n",
       "      <td>2017-03-10 21:05:03</td>\n",
       "    </tr>\n",
       "    <tr>\n",
       "      <th>3</th>\n",
       "      <td>0.250000</td>\n",
       "      <td>0.797727</td>\n",
       "      <td>0.194914</td>\n",
       "      <td>0.0</td>\n",
       "      <td>2017-10-12 20:29:41</td>\n",
       "    </tr>\n",
       "    <tr>\n",
       "      <th>4</th>\n",
       "      <td>1.000000</td>\n",
       "      <td>0.183903</td>\n",
       "      <td>0.194914</td>\n",
       "      <td>0.0</td>\n",
       "      <td>2017-11-14 19:45:42</td>\n",
       "    </tr>\n",
       "  </tbody>\n",
       "</table>\n",
       "</div>"
      ],
      "text/plain": [
       "      score  freight_per  delivery_per  quantity order_purchase_timestamp_max\n",
       "0  1.000000     0.181293      0.245409       0.0          2018-05-10 10:56:27\n",
       "1  0.250000     0.761299      0.465625       0.0          2018-05-07 11:11:27\n",
       "2  0.166667     0.545819      0.020121       0.0          2017-03-10 21:05:03\n",
       "3  0.250000     0.797727      0.194914       0.0          2017-10-12 20:29:41\n",
       "4  1.000000     0.183903      0.194914       0.0          2017-11-14 19:45:42"
      ]
     },
     "execution_count": 8,
     "metadata": {},
     "output_type": "execute_result"
    }
   ],
   "source": [
    "# Adding dates to the dataset  \n",
    "customers = customers.merge(customers_cleaned, left_index=True, right_index=True)\n",
    "customers.head(5)"
   ]
  },
  {
   "cell_type": "code",
   "execution_count": 9,
   "id": "8b6ab238",
   "metadata": {},
   "outputs": [],
   "source": [
    "# Defining a reference date corresponding to min + 12 months\n",
    "date_ref_end_B0 = date_ref_ini + pd.DateOffset(months=12)\n",
    "date_ref_end_B0 = pd.to_datetime(date_ref_end_B0,format='%Y-%m-%d %H:%M:%S')"
   ]
  },
  {
   "cell_type": "code",
   "execution_count": 10,
   "id": "12fb9e47",
   "metadata": {},
   "outputs": [],
   "source": [
    "# Training the initial M0 model to date_ref_end_B0 on customers_B0 clients\n",
    "customers_B0 = customers.loc[pd.to_datetime(customers['order_purchase_timestamp_max']) <= date_ref_end_B0]\n",
    "F0 = customers_B0.drop(['order_purchase_timestamp_max'], axis=1).values\n",
    "scaler = StandardScaler()\n",
    "F0_std = scaler.fit_transform(F0)\n",
    "modele = cluster.KMeans(n_clusters=6)\n",
    "M0 = modele.fit(F0_std)\n",
    "C0 = M0.labels_"
   ]
  },
  {
   "cell_type": "code",
   "execution_count": 11,
   "id": "b568166a",
   "metadata": {},
   "outputs": [],
   "source": [
    "# Initialising before loop\n",
    "i = -1\n",
    "date_limit = date_ref_end_B0\n",
    "ARI_scores = []\n",
    "ARI_results = pd.DataFrame()\n",
    "\n",
    "# Training the initial Mi model to date_ref_end_Bi on customers_Bi clients to get the clusters Ci_new.\n",
    "# Comparing to clusters Ci_init that matches the M0 model's prediction about customers_Bi clients\n",
    "while date_limit < date_ref_last:\n",
    "    i +=1\n",
    "    customers_Bi = customers.loc[pd.to_datetime(customers['order_purchase_timestamp_max']) <= date_limit]\n",
    "    Fi = customers_Bi.drop(['order_purchase_timestamp_max'], axis=1).values\n",
    "    Fi_std = scaler.fit_transform(Fi)\n",
    "    model = cluster.KMeans(n_clusters=6)\n",
    "    Mi = model.fit(Fi_std)\n",
    "    Ci_new = Mi.labels_\n",
    "    \n",
    "    Ci_init = M0.predict(Fi_std)\n",
    "    \n",
    "    ARI_score = metrics.adjusted_rand_score(Ci_new, Ci_init)\n",
    "    ARI_scores.append(ARI_score)\n",
    "     \n",
    "    date_limit += timedelta(days=30)"
   ]
  },
  {
   "cell_type": "code",
   "execution_count": 12,
   "id": "79c1987f",
   "metadata": {},
   "outputs": [
    {
     "data": {
      "text/plain": [
       "[0.9990720050745283,\n",
       " 0.9911253846961139,\n",
       " 0.9645505390736551,\n",
       " 0.9614476202095069,\n",
       " 0.95994317664227,\n",
       " 0.9486190387190295,\n",
       " 0.7122556028915337,\n",
       " 0.9512627450280591,\n",
       " 0.9587430667691801,\n",
       " 0.9749386523979774,\n",
       " 0.9876701695150478]"
      ]
     },
     "execution_count": 12,
     "metadata": {},
     "output_type": "execute_result"
    }
   ],
   "source": [
    "# Observing results of comparaison\n",
    "ARI_scores"
   ]
  },
  {
   "cell_type": "code",
   "execution_count": 13,
   "id": "67978410",
   "metadata": {},
   "outputs": [
    {
     "data": {
      "image/png": "[encoded data removed]",
      "text/plain": [
       "<Figure size 864x360 with 1 Axes>"
      ]
     },
     "metadata": {},
     "output_type": "display_data"
    }
   ],
   "source": [
    "# Visualising results of comparaison\n",
    "fig = plt.figure(figsize=(12,5))\n",
    "\n",
    "rands = []\n",
    "   \n",
    "plt.plot(ARI_scores)\n",
    "plt.title('Evolution of rand index')\n",
    "plt.xlabel('Nb of additional months')\n",
    "plt.ylabel('Rand Index')\n",
    "plt.xticks(rotation='45', horizontalalignment=\"right\")\n",
    "plt.ylim((0,1.1))\n",
    "plt.show()"
   ]
  },
  {
   "cell_type": "markdown",
   "id": "9a82d7f6",
   "metadata": {},
   "source": [
    "The end of simulation notebook"
   ]
  }
 ],
 "metadata": {
  "kernelspec": {
   "display_name": "Python 3 (ipykernel)",
   "language": "python",
   "name": "python3"
  },
  "language_info": {
   "codemirror_mode": {
    "name": "ipython",
    "version": 3
   },
   "file_extension": ".py",
   "mimetype": "text/x-python",
   "name": "python",
   "nbconvert_exporter": "python",
   "pygments_lexer": "ipython3",
   "version": "3.8.13"
  }
 },
 "nbformat": 4,
 "nbformat_minor": 5
}
